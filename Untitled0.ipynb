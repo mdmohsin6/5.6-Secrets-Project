{
  "nbformat": 4,
  "nbformat_minor": 0,
  "metadata": {
    "colab": {
      "provenance": [],
      "authorship_tag": "ABX9TyOwceldpklF/klYG4dV/Eww",
      "include_colab_link": true
    },
    "kernelspec": {
      "name": "python3",
      "display_name": "Python 3"
    },
    "language_info": {
      "name": "python"
    }
  },
  "cells": [
    {
      "cell_type": "markdown",
      "metadata": {
        "id": "view-in-github",
        "colab_type": "text"
      },
      "source": [
        "<a href=\"https://colab.research.google.com/github/mdmohsin6/5.6-Secrets-Project/blob/main/Untitled0.ipynb\" target=\"_parent\"><img src=\"https://colab.research.google.com/assets/colab-badge.svg\" alt=\"Open In Colab\"/></a>"
      ]
    },
    {
      "cell_type": "code",
      "execution_count": null,
      "metadata": {
        "id": "iltJEv4eojxR"
      },
      "outputs": [],
      "source": []
    },
    {
      "cell_type": "code",
      "source": [
        "# print is a case sensitive language like Print wrong print right\n",
        "\n",
        "print('Hello world!')"
      ],
      "metadata": {
        "colab": {
          "base_uri": "https://localhost:8080/"
        },
        "id": "rlShgqXsor0L",
        "outputId": "6d0e7705-273d-45cd-88c6-536f22c21a34"
      },
      "execution_count": 1,
      "outputs": [
        {
          "output_type": "stream",
          "name": "stdout",
          "text": [
            "Hello world!\n"
          ]
        }
      ]
    },
    {
      "cell_type": "code",
      "source": [
        "print('salman khan ,best bollywoood actor')"
      ],
      "metadata": {
        "colab": {
          "base_uri": "https://localhost:8080/"
        },
        "id": "vJBsO8JGpV6S",
        "outputId": "081234b1-3aa0-4555-b374-d19e1194ce8c"
      },
      "execution_count": 2,
      "outputs": [
        {
          "output_type": "stream",
          "name": "stdout",
          "text": [
            "salman khan ,best bollywoood actor\n"
          ]
        }
      ]
    },
    {
      "cell_type": "code",
      "source": [
        "print(\"mohsin\", 1,2,4,True)"
      ],
      "metadata": {
        "colab": {
          "base_uri": "https://localhost:8080/"
        },
        "id": "ukS7on_TpsE7",
        "outputId": "25be53f0-9ccc-467a-c963-c999352f9709"
      },
      "execution_count": 3,
      "outputs": [
        {
          "output_type": "stream",
          "name": "stdout",
          "text": [
            "mohsin 1 2 4 True\n"
          ]
        }
      ]
    },
    {
      "cell_type": "code",
      "source": [
        "print('mohsin', 1,2,3,4,True, sep='/')"
      ],
      "metadata": {
        "colab": {
          "base_uri": "https://localhost:8080/"
        },
        "id": "jxuGtbJvp4yk",
        "outputId": "05014987-0db6-4895-d110-64ebad7f1603"
      },
      "execution_count": 4,
      "outputs": [
        {
          "output_type": "stream",
          "name": "stdout",
          "text": [
            "mohsin/1/2/3/4/True\n"
          ]
        }
      ]
    },
    {
      "cell_type": "code",
      "source": [
        "print('hello')\n",
        "print('hello')"
      ],
      "metadata": {
        "colab": {
          "base_uri": "https://localhost:8080/"
        },
        "id": "Bo4LawtOqEch",
        "outputId": "de9a58b3-a557-4658-9ab3-81f9eeb079b6"
      },
      "execution_count": 5,
      "outputs": [
        {
          "output_type": "stream",
          "name": "stdout",
          "text": [
            "hello\n",
            "hello\n"
          ]
        }
      ]
    },
    {
      "cell_type": "code",
      "source": [
        "print('mohsin', end = '_')\n",
        "print('khan')"
      ],
      "metadata": {
        "colab": {
          "base_uri": "https://localhost:8080/"
        },
        "id": "vZDGaXYUqSgz",
        "outputId": "a717263d-5deb-4714-996e-9c3fd13872b9"
      },
      "execution_count": 6,
      "outputs": [
        {
          "output_type": "stream",
          "name": "stdout",
          "text": [
            "mohsin_khan\n"
          ]
        }
      ]
    },
    {
      "cell_type": "code",
      "source": [],
      "metadata": {
        "id": "NySGR6K2q08B"
      },
      "execution_count": null,
      "outputs": []
    },
    {
      "cell_type": "markdown",
      "source": [
        "DATA TYPES\n"
      ],
      "metadata": {
        "id": "IJJ1NUjEqx2A"
      }
    },
    {
      "cell_type": "code",
      "source": [
        "#INTEGER\n",
        "print(8)\n",
        "print(1e309)\n",
        "# 1*10^308"
      ],
      "metadata": {
        "colab": {
          "base_uri": "https://localhost:8080/"
        },
        "id": "1hwPPV2_q3MF",
        "outputId": "073dbd70-c2b9-49e0-c47e-7864d6c9361a"
      },
      "execution_count": 8,
      "outputs": [
        {
          "output_type": "stream",
          "name": "stdout",
          "text": [
            "8\n",
            "inf\n"
          ]
        }
      ]
    },
    {
      "cell_type": "code",
      "source": [
        "#decimal\n",
        "print(3.6)\n",
        "print(3.90)"
      ],
      "metadata": {
        "colab": {
          "base_uri": "https://localhost:8080/"
        },
        "id": "endGadQ5rIyZ",
        "outputId": "6a105d1d-7b52-410b-c192-4dd18a99918d"
      },
      "execution_count": 10,
      "outputs": [
        {
          "output_type": "stream",
          "name": "stdout",
          "text": [
            "3.6\n",
            "3.9\n"
          ]
        }
      ]
    },
    {
      "cell_type": "code",
      "source": [
        "#boolean\n",
        "print(True)\n",
        "print(False)"
      ],
      "metadata": {
        "colab": {
          "base_uri": "https://localhost:8080/"
        },
        "id": "WjC3z1zrrS7b",
        "outputId": "bc6409c2-ae37-4acb-8b11-86607adc9a64"
      },
      "execution_count": 11,
      "outputs": [
        {
          "output_type": "stream",
          "name": "stdout",
          "text": [
            "True\n",
            "False\n"
          ]
        }
      ]
    },
    {
      "cell_type": "code",
      "source": [
        "#string\n",
        "print('hello world')\n",
        "\n",
        "#complex\n",
        "print(5+6j)"
      ],
      "metadata": {
        "colab": {
          "base_uri": "https://localhost:8080/"
        },
        "id": "CbKQLvXArYYN",
        "outputId": "2442a717-9d8e-4cfd-fba3-56656a07286e"
      },
      "execution_count": 13,
      "outputs": [
        {
          "output_type": "stream",
          "name": "stdout",
          "text": [
            "hello world\n",
            "(5+6j)\n"
          ]
        }
      ]
    },
    {
      "cell_type": "code",
      "source": [
        "type(5)\n",
        "type(5+6j)\n",
        "type(4.5)\n",
        "type([4,6,7,8])"
      ],
      "metadata": {
        "colab": {
          "base_uri": "https://localhost:8080/"
        },
        "id": "WIXxa2gpsPvy",
        "outputId": "28901714-ca84-4584-e471-cbf67026a966"
      },
      "execution_count": 17,
      "outputs": [
        {
          "output_type": "execute_result",
          "data": {
            "text/plain": [
              "list"
            ]
          },
          "metadata": {},
          "execution_count": 17
        }
      ]
    },
    {
      "cell_type": "code",
      "source": [
        "a=5\n",
        "b=3\n",
        "print(a+b)\n",
        "#dynamic typing\n",
        "a=4\n",
        "#static typing\n",
        "#int a =4\n",
        "\n",
        "#dynaminc binding\n",
        "a=5\n",
        "print(a)\n",
        "a='natish'\n",
        "print(a)"
      ],
      "metadata": {
        "colab": {
          "base_uri": "https://localhost:8080/"
        },
        "id": "DjGaEs8XvJza",
        "outputId": "06ac8501-5c53-406b-be8f-979847bfa7ce"
      },
      "execution_count": 19,
      "outputs": [
        {
          "output_type": "stream",
          "name": "stdout",
          "text": [
            "8\n",
            "5\n",
            "natish\n"
          ]
        }
      ]
    },
    {
      "cell_type": "code",
      "source": [
        "a,b,c=1,4,6\n",
        "print(a,b,c)"
      ],
      "metadata": {
        "colab": {
          "base_uri": "https://localhost:8080/"
        },
        "id": "-hztYhSQwSWI",
        "outputId": "468e2d89-f96f-411d-9c2e-4cc1b2f6aab7"
      },
      "execution_count": 20,
      "outputs": [
        {
          "output_type": "stream",
          "name": "stdout",
          "text": [
            "1 4 6\n"
          ]
        }
      ]
    },
    {
      "cell_type": "markdown",
      "source": [
        "Keyword and identifier"
      ],
      "metadata": {
        "id": "XpX9a6pUweDo"
      }
    },
    {
      "cell_type": "code",
      "source": [
        "name1= 'mohsin'\n",
        "print(name1)\n",
        "#you can use a special character =>   _\n",
        "_ = 'mohsin'\n",
        "print(_)"
      ],
      "metadata": {
        "colab": {
          "base_uri": "https://localhost:8080/"
        },
        "id": "rasw5pCMwh1r",
        "outputId": "2400fe01-fcfe-4803-fb54-d2fb73d8597e"
      },
      "execution_count": 22,
      "outputs": [
        {
          "output_type": "stream",
          "name": "stdout",
          "text": [
            "mohsin\n",
            "mohsin\n"
          ]
        }
      ]
    },
    {
      "cell_type": "markdown",
      "source": [
        "INPUT\n"
      ],
      "metadata": {
        "id": "VYnrwVe3xlQP"
      }
    },
    {
      "cell_type": "code",
      "source": [
        "input('enter email')"
      ],
      "metadata": {
        "colab": {
          "base_uri": "https://localhost:8080/",
          "height": 53
        },
        "id": "wmnLJW12xn-B",
        "outputId": "06b46dd6-11ea-4e1b-85b4-ddf6e4352299"
      },
      "execution_count": 23,
      "outputs": [
        {
          "name": "stdout",
          "output_type": "stream",
          "text": [
            "enter emailmohsin@gmail.com\n"
          ]
        },
        {
          "output_type": "execute_result",
          "data": {
            "text/plain": [
              "'mohsin@gmail.com'"
            ],
            "application/vnd.google.colaboratory.intrinsic+json": {
              "type": "string"
            }
          },
          "metadata": {},
          "execution_count": 23
        }
      ]
    },
    {
      "cell_type": "code",
      "source": [
        "#take input from the user and store them in a variable\n",
        "#add the variable\n",
        "#print the results\n",
        "\n",
        "firstNum= int(input('enter first number'))\n",
        "secondNum = int(input(\"enter second number\"))\n",
        "result= firstNum + secondNum\n",
        "print(result)\n",
        "type(firstNum)"
      ],
      "metadata": {
        "colab": {
          "base_uri": "https://localhost:8080/"
        },
        "id": "g1p6Juyyx08O",
        "outputId": "bfbaff73-f981-4956-8100-2a5ff583c33c"
      },
      "execution_count": 30,
      "outputs": [
        {
          "output_type": "stream",
          "name": "stdout",
          "text": [
            "enter first number2\n",
            "enter second number3\n",
            "5\n"
          ]
        },
        {
          "output_type": "execute_result",
          "data": {
            "text/plain": [
              "int"
            ]
          },
          "metadata": {},
          "execution_count": 30
        }
      ]
    }
  ]
}