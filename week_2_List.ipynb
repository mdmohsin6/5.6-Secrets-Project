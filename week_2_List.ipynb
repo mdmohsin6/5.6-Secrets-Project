{
  "nbformat": 4,
  "nbformat_minor": 0,
  "metadata": {
    "colab": {
      "provenance": [],
      "authorship_tag": "ABX9TyOhigmm5dpfzNsnBsVNo5lN",
      "include_colab_link": true
    },
    "kernelspec": {
      "name": "python3",
      "display_name": "Python 3"
    },
    "language_info": {
      "name": "python"
    }
  },
  "cells": [
    {
      "cell_type": "markdown",
      "metadata": {
        "id": "view-in-github",
        "colab_type": "text"
      },
      "source": [
        "<a href=\"https://colab.research.google.com/github/mdmohsin6/5.6-Secrets-Project/blob/main/week_2_List.ipynb\" target=\"_parent\"><img src=\"https://colab.research.google.com/assets/colab-badge.svg\" alt=\"Open In Colab\"/></a>"
      ]
    },
    {
      "cell_type": "code",
      "execution_count": null,
      "metadata": {
        "id": "iltJEv4eojxR"
      },
      "outputs": [],
      "source": []
    },
    {
      "cell_type": "code",
      "source": [
        "# print is a case sensitive language like Print wrong print right\n",
        "\n",
        "print('Hello world!')"
      ],
      "metadata": {
        "colab": {
          "base_uri": "https://localhost:8080/"
        },
        "id": "rlShgqXsor0L",
        "outputId": "6d0e7705-273d-45cd-88c6-536f22c21a34"
      },
      "execution_count": null,
      "outputs": [
        {
          "output_type": "stream",
          "name": "stdout",
          "text": [
            "Hello world!\n"
          ]
        }
      ]
    },
    {
      "cell_type": "code",
      "source": [
        "print('salman khan ,best bollywoood actor')"
      ],
      "metadata": {
        "colab": {
          "base_uri": "https://localhost:8080/"
        },
        "id": "vJBsO8JGpV6S",
        "outputId": "081234b1-3aa0-4555-b374-d19e1194ce8c"
      },
      "execution_count": null,
      "outputs": [
        {
          "output_type": "stream",
          "name": "stdout",
          "text": [
            "salman khan ,best bollywoood actor\n"
          ]
        }
      ]
    },
    {
      "cell_type": "code",
      "source": [
        "print(\"mohsin\", 1,2,4,True)"
      ],
      "metadata": {
        "colab": {
          "base_uri": "https://localhost:8080/"
        },
        "id": "ukS7on_TpsE7",
        "outputId": "25be53f0-9ccc-467a-c963-c999352f9709"
      },
      "execution_count": null,
      "outputs": [
        {
          "output_type": "stream",
          "name": "stdout",
          "text": [
            "mohsin 1 2 4 True\n"
          ]
        }
      ]
    },
    {
      "cell_type": "code",
      "source": [
        "print('mohsin', 1,2,3,4,True, sep='/')"
      ],
      "metadata": {
        "colab": {
          "base_uri": "https://localhost:8080/"
        },
        "id": "jxuGtbJvp4yk",
        "outputId": "05014987-0db6-4895-d110-64ebad7f1603"
      },
      "execution_count": null,
      "outputs": [
        {
          "output_type": "stream",
          "name": "stdout",
          "text": [
            "mohsin/1/2/3/4/True\n"
          ]
        }
      ]
    },
    {
      "cell_type": "code",
      "source": [
        "print('hello')\n",
        "print('hello')"
      ],
      "metadata": {
        "colab": {
          "base_uri": "https://localhost:8080/"
        },
        "id": "Bo4LawtOqEch",
        "outputId": "de9a58b3-a557-4658-9ab3-81f9eeb079b6"
      },
      "execution_count": null,
      "outputs": [
        {
          "output_type": "stream",
          "name": "stdout",
          "text": [
            "hello\n",
            "hello\n"
          ]
        }
      ]
    },
    {
      "cell_type": "code",
      "source": [
        "print('mohsin', end = '_')\n",
        "print('khan')"
      ],
      "metadata": {
        "colab": {
          "base_uri": "https://localhost:8080/"
        },
        "id": "vZDGaXYUqSgz",
        "outputId": "a717263d-5deb-4714-996e-9c3fd13872b9"
      },
      "execution_count": null,
      "outputs": [
        {
          "output_type": "stream",
          "name": "stdout",
          "text": [
            "mohsin_khan\n"
          ]
        }
      ]
    },
    {
      "cell_type": "code",
      "source": [],
      "metadata": {
        "id": "NySGR6K2q08B"
      },
      "execution_count": null,
      "outputs": []
    },
    {
      "cell_type": "markdown",
      "source": [
        "DATA TYPES\n"
      ],
      "metadata": {
        "id": "IJJ1NUjEqx2A"
      }
    },
    {
      "cell_type": "code",
      "source": [
        "#INTEGER\n",
        "print(8)\n",
        "print(1e309)\n",
        "# 1*10^308"
      ],
      "metadata": {
        "colab": {
          "base_uri": "https://localhost:8080/"
        },
        "id": "1hwPPV2_q3MF",
        "outputId": "073dbd70-c2b9-49e0-c47e-7864d6c9361a"
      },
      "execution_count": null,
      "outputs": [
        {
          "output_type": "stream",
          "name": "stdout",
          "text": [
            "8\n",
            "inf\n"
          ]
        }
      ]
    },
    {
      "cell_type": "code",
      "source": [
        "#decimal\n",
        "print(3.6)\n",
        "print(3.90)"
      ],
      "metadata": {
        "colab": {
          "base_uri": "https://localhost:8080/"
        },
        "id": "endGadQ5rIyZ",
        "outputId": "6a105d1d-7b52-410b-c192-4dd18a99918d"
      },
      "execution_count": null,
      "outputs": [
        {
          "output_type": "stream",
          "name": "stdout",
          "text": [
            "3.6\n",
            "3.9\n"
          ]
        }
      ]
    },
    {
      "cell_type": "code",
      "source": [
        "#boolean\n",
        "print(True)\n",
        "print(False)"
      ],
      "metadata": {
        "colab": {
          "base_uri": "https://localhost:8080/"
        },
        "id": "WjC3z1zrrS7b",
        "outputId": "bc6409c2-ae37-4acb-8b11-86607adc9a64"
      },
      "execution_count": null,
      "outputs": [
        {
          "output_type": "stream",
          "name": "stdout",
          "text": [
            "True\n",
            "False\n"
          ]
        }
      ]
    },
    {
      "cell_type": "code",
      "source": [
        "#string\n",
        "print('hello world')\n",
        "\n",
        "#complex\n",
        "print(5+6j)"
      ],
      "metadata": {
        "colab": {
          "base_uri": "https://localhost:8080/"
        },
        "id": "CbKQLvXArYYN",
        "outputId": "2442a717-9d8e-4cfd-fba3-56656a07286e"
      },
      "execution_count": null,
      "outputs": [
        {
          "output_type": "stream",
          "name": "stdout",
          "text": [
            "hello world\n",
            "(5+6j)\n"
          ]
        }
      ]
    },
    {
      "cell_type": "code",
      "source": [
        "type(5)\n",
        "type(5+6j)\n",
        "type(4.5)\n",
        "type([4,6,7,8])"
      ],
      "metadata": {
        "colab": {
          "base_uri": "https://localhost:8080/"
        },
        "id": "WIXxa2gpsPvy",
        "outputId": "28901714-ca84-4584-e471-cbf67026a966"
      },
      "execution_count": null,
      "outputs": [
        {
          "output_type": "execute_result",
          "data": {
            "text/plain": [
              "list"
            ]
          },
          "metadata": {},
          "execution_count": 17
        }
      ]
    },
    {
      "cell_type": "code",
      "source": [
        "a=5\n",
        "b=3\n",
        "print(a+b)\n",
        "#dynamic typing\n",
        "a=4\n",
        "#static typing\n",
        "#int a =4\n",
        "\n",
        "#dynaminc binding\n",
        "a=5\n",
        "print(a)\n",
        "a='natish'\n",
        "print(a)"
      ],
      "metadata": {
        "colab": {
          "base_uri": "https://localhost:8080/"
        },
        "id": "DjGaEs8XvJza",
        "outputId": "06ac8501-5c53-406b-be8f-979847bfa7ce"
      },
      "execution_count": null,
      "outputs": [
        {
          "output_type": "stream",
          "name": "stdout",
          "text": [
            "8\n",
            "5\n",
            "natish\n"
          ]
        }
      ]
    },
    {
      "cell_type": "code",
      "source": [
        "a,b,c=1,4,6\n",
        "print(a,b,c)"
      ],
      "metadata": {
        "colab": {
          "base_uri": "https://localhost:8080/"
        },
        "id": "-hztYhSQwSWI",
        "outputId": "468e2d89-f96f-411d-9c2e-4cc1b2f6aab7"
      },
      "execution_count": null,
      "outputs": [
        {
          "output_type": "stream",
          "name": "stdout",
          "text": [
            "1 4 6\n"
          ]
        }
      ]
    },
    {
      "cell_type": "markdown",
      "source": [
        "Keyword and identifier"
      ],
      "metadata": {
        "id": "XpX9a6pUweDo"
      }
    },
    {
      "cell_type": "code",
      "source": [
        "name1= 'mohsin'\n",
        "print(name1)\n",
        "#you can use a special character =>   _\n",
        "_ = 'mohsin'\n",
        "print(_)"
      ],
      "metadata": {
        "colab": {
          "base_uri": "https://localhost:8080/"
        },
        "id": "rasw5pCMwh1r",
        "outputId": "2400fe01-fcfe-4803-fb54-d2fb73d8597e"
      },
      "execution_count": null,
      "outputs": [
        {
          "output_type": "stream",
          "name": "stdout",
          "text": [
            "mohsin\n",
            "mohsin\n"
          ]
        }
      ]
    },
    {
      "cell_type": "markdown",
      "source": [
        "INPUT\n"
      ],
      "metadata": {
        "id": "VYnrwVe3xlQP"
      }
    },
    {
      "cell_type": "code",
      "source": [
        "input('enter email')"
      ],
      "metadata": {
        "colab": {
          "base_uri": "https://localhost:8080/",
          "height": 53
        },
        "id": "wmnLJW12xn-B",
        "outputId": "06b46dd6-11ea-4e1b-85b4-ddf6e4352299"
      },
      "execution_count": null,
      "outputs": [
        {
          "name": "stdout",
          "output_type": "stream",
          "text": [
            "enter emailmohsin@gmail.com\n"
          ]
        },
        {
          "output_type": "execute_result",
          "data": {
            "text/plain": [
              "'mohsin@gmail.com'"
            ],
            "application/vnd.google.colaboratory.intrinsic+json": {
              "type": "string"
            }
          },
          "metadata": {},
          "execution_count": 23
        }
      ]
    },
    {
      "cell_type": "code",
      "source": [
        "#take input from the user and store them in a variable\n",
        "#add the variable\n",
        "#print the results\n",
        "\n",
        "firstNum= int(input('enter first number'))\n",
        "secondNum = int(input(\"enter second number\"))\n",
        "result= firstNum + secondNum\n",
        "print(result)\n",
        "type(firstNum)"
      ],
      "metadata": {
        "colab": {
          "base_uri": "https://localhost:8080/"
        },
        "id": "g1p6Juyyx08O",
        "outputId": "bfbaff73-f981-4956-8100-2a5ff583c33c"
      },
      "execution_count": null,
      "outputs": [
        {
          "output_type": "stream",
          "name": "stdout",
          "text": [
            "enter first number2\n",
            "enter second number3\n",
            "5\n"
          ]
        },
        {
          "output_type": "execute_result",
          "data": {
            "text/plain": [
              "int"
            ]
          },
          "metadata": {},
          "execution_count": 30
        }
      ]
    },
    {
      "cell_type": "markdown",
      "source": [
        "create function with (dcostring)"
      ],
      "metadata": {
        "id": "T8NPcnMRs7R7"
      }
    },
    {
      "cell_type": "code",
      "source": [],
      "metadata": {
        "id": "_zTeP2Sw4A5l"
      },
      "execution_count": null,
      "outputs": []
    },
    {
      "cell_type": "code",
      "source": [],
      "metadata": {
        "id": "-1Q11tAT7Px3"
      },
      "execution_count": null,
      "outputs": []
    },
    {
      "cell_type": "markdown",
      "source": [
        "# **operator**\n",
        "\n"
      ],
      "metadata": {
        "id": "FkvnwvmO7IDU"
      }
    },
    {
      "cell_type": "code",
      "source": [
        "#arithmetic\n",
        "print(2+3)\n",
        "print(3+2)\n",
        "\n",
        "\n",
        "#relational operator\n",
        "print(4>2)\n",
        "print(2<=2)\n",
        "print(4!=3)\n",
        "\n",
        "#logical operator\n",
        "\n",
        "print(1 and 0)\n",
        "print(1 or 0)\n",
        "print(not 0)\n",
        "\n",
        "#bitwise\n",
        "\n",
        "#bitwise and\n",
        "#binary representation\n",
        "#2 = 0 1 0\n",
        "#3 = 1 1 0\n",
        "# and\n",
        "#0 1 0 =2\n",
        "\n",
        "\n",
        "print(2 & 3)\n"
      ],
      "metadata": {
        "colab": {
          "base_uri": "https://localhost:8080/"
        },
        "id": "feIXVZmt7Q4g",
        "outputId": "748bacb1-0c0a-47c6-ac7a-03f8697e03f5"
      },
      "execution_count": null,
      "outputs": [
        {
          "output_type": "stream",
          "name": "stdout",
          "text": [
            "5\n",
            "5\n",
            "True\n",
            "True\n",
            "True\n",
            "0\n",
            "1\n",
            "True\n",
            "2\n"
          ]
        }
      ]
    },
    {
      "cell_type": "code",
      "source": [
        "#membership operator\n",
        "\n",
        "print(1 in [2,5,6,7,8])\n",
        "print('D' not in \"delhi\")"
      ],
      "metadata": {
        "colab": {
          "base_uri": "https://localhost:8080/"
        },
        "id": "PENKFmBo8tFc",
        "outputId": "cd600e9e-0135-454f-c2d0-cf7db097cb3b"
      },
      "execution_count": null,
      "outputs": [
        {
          "output_type": "stream",
          "name": "stdout",
          "text": [
            "False\n",
            "True\n"
          ]
        }
      ]
    },
    {
      "cell_type": "code",
      "source": [
        "email = input(\"enter your email\")\n",
        "password= input(\"enter your password\")\n",
        "if email == 'mohsin8164@gmail.com' and password == 'mohsin' :\n",
        "  print('Welcome')\n",
        "elif email == 'mohsin8164@gmail.com' and password != 'mohsin'  :\n",
        "  #to tell user\n",
        "  print('password not correct')\n",
        "  password= input('re enter password')\n",
        "  if password == 'mohsin' :\n",
        "    print('welcome')\n",
        "  else :\n",
        "    print('tumse na hopayegaa')\n",
        "else:\n",
        "  print(\"not corrected\")"
      ],
      "metadata": {
        "colab": {
          "base_uri": "https://localhost:8080/"
        },
        "id": "L4PtT7vIEpqj",
        "outputId": "82e6f4e4-1d64-407d-9a9e-9d67067fd63c"
      },
      "execution_count": null,
      "outputs": [
        {
          "output_type": "stream",
          "name": "stdout",
          "text": [
            "enter your emailmohsin8164@gmail.com\n",
            "enter your passworddfsdfds\n",
            "password not correct\n",
            "re enter passworddfsds\n",
            "tumse na hopayegaa\n"
          ]
        }
      ]
    },
    {
      "cell_type": "markdown",
      "source": [
        "question"
      ],
      "metadata": {
        "id": "MYkcWcl4HK8b"
      }
    },
    {
      "cell_type": "code",
      "source": [
        "#smallest in 3 number\n",
        "\n",
        "a = int (input('enter first number'))\n",
        "b= int( input('enter second number'))\n",
        "c = int (input('enter third number'))\n",
        "\n",
        "if a<b and a<c :\n",
        "  print('smallest is', a)\n",
        "elif b<c:\n",
        "    print(\"smallest is \", b)\n",
        "else :\n",
        "  print('smallest is c', c)\n",
        "\n"
      ],
      "metadata": {
        "colab": {
          "base_uri": "https://localhost:8080/"
        },
        "id": "cQRofDZzHNhh",
        "outputId": "9b9686d9-5dc0-4162-cc56-3eaade76dc2a"
      },
      "execution_count": null,
      "outputs": [
        {
          "output_type": "stream",
          "name": "stdout",
          "text": [
            "enter first number9\n",
            "enter second number4\n",
            "enter third number12\n",
            "smallest is  4\n"
          ]
        }
      ]
    },
    {
      "cell_type": "markdown",
      "source": [
        "LOOP"
      ],
      "metadata": {
        "id": "CLGi7cUZKO2C"
      }
    },
    {
      "cell_type": "code",
      "source": [
        "#PROGRAM TO PRINT THE TABLE\n",
        "\n",
        "number = int(input('enter the number'))\n",
        "i=1\n",
        "while i<11:\n",
        "  print(number, '*', i, '=', number * i)\n",
        "  i += 1\n"
      ],
      "metadata": {
        "colab": {
          "base_uri": "https://localhost:8080/"
        },
        "id": "VV1fQXkhKQzb",
        "outputId": "1ef28343-180c-42f8-9e99-fd063c9c4f2e"
      },
      "execution_count": null,
      "outputs": [
        {
          "output_type": "stream",
          "name": "stdout",
          "text": [
            "enter the number3\n",
            "3 * 1 = 3\n",
            "3 * 2 = 6\n",
            "3 * 3 = 9\n",
            "3 * 4 = 12\n",
            "3 * 5 = 15\n",
            "3 * 6 = 18\n",
            "3 * 7 = 21\n",
            "3 * 8 = 24\n",
            "3 * 9 = 27\n",
            "3 * 10 = 30\n"
          ]
        }
      ]
    },
    {
      "cell_type": "code",
      "source": [
        "#while loop with else\n",
        "\n",
        "  x = 1\n",
        "\n",
        "  while x < 3:\n",
        "    print(x)\n",
        "    x += 1\n",
        "  else:\n",
        "    print('limit crosss')"
      ],
      "metadata": {
        "colab": {
          "base_uri": "https://localhost:8080/",
          "height": 109
        },
        "id": "6N8EPq84L-ag",
        "outputId": "36cd184f-24ea-44e0-9bfe-cd886b309a80"
      },
      "execution_count": null,
      "outputs": [
        {
          "output_type": "error",
          "ename": "IndentationError",
          "evalue": "unexpected indent (<ipython-input-54-c96cd92c4d94>, line 3)",
          "traceback": [
            "\u001b[0;36m  File \u001b[0;32m\"<ipython-input-54-c96cd92c4d94>\"\u001b[0;36m, line \u001b[0;32m3\u001b[0m\n\u001b[0;31m    x = 1\u001b[0m\n\u001b[0m    ^\u001b[0m\n\u001b[0;31mIndentationError\u001b[0m\u001b[0;31m:\u001b[0m unexpected indent\n"
          ]
        }
      ]
    },
    {
      "cell_type": "code",
      "source": [
        "# for loop\n",
        "\n",
        "for i in range(1,11):\n",
        "  print(i)"
      ],
      "metadata": {
        "colab": {
          "base_uri": "https://localhost:8080/"
        },
        "id": "MwpcyiBANBA2",
        "outputId": "9e1d08dc-00c0-47da-97e1-be1e9eed92ef"
      },
      "execution_count": null,
      "outputs": [
        {
          "output_type": "stream",
          "name": "stdout",
          "text": [
            "1\n",
            "2\n",
            "3\n",
            "4\n",
            "5\n",
            "6\n",
            "7\n",
            "8\n",
            "9\n",
            "10\n"
          ]
        }
      ]
    },
    {
      "cell_type": "code",
      "source": [
        "for i in {1,2,34,5}: #dictionary m\n",
        "  print(i)"
      ],
      "metadata": {
        "colab": {
          "base_uri": "https://localhost:8080/"
        },
        "id": "alyXuy9ENcxe",
        "outputId": "2bd81017-49c8-4384-f71c-49b47bdb1cbf"
      },
      "execution_count": null,
      "outputs": [
        {
          "output_type": "stream",
          "name": "stdout",
          "text": [
            "1\n",
            "2\n",
            "34\n",
            "5\n"
          ]
        }
      ]
    },
    {
      "cell_type": "code",
      "source": [
        "#factorial\n",
        "n= int(input('enter n'))\n",
        "\n",
        "result =0\n",
        "fact=1\n",
        "\n",
        "for i in range(1,n+1):\n",
        "  fact = fact * i\n",
        "  result = result + i/fact\n",
        "\n",
        "  print(result)"
      ],
      "metadata": {
        "colab": {
          "base_uri": "https://localhost:8080/"
        },
        "id": "v0BEKBnX4Drl",
        "outputId": "7cdd3b82-745c-4e5b-ea80-623084fecaea"
      },
      "execution_count": null,
      "outputs": [
        {
          "output_type": "stream",
          "name": "stdout",
          "text": [
            "enter n4\n",
            "1.0\n",
            "2.0\n",
            "2.5\n",
            "2.6666666666666665\n"
          ]
        }
      ]
    },
    {
      "cell_type": "markdown",
      "source": [
        "NESTED LOOP\n"
      ],
      "metadata": {
        "id": "6imfoJew4ttd"
      }
    },
    {
      "cell_type": "code",
      "source": [
        "#NESTED LOOP\n",
        "\n",
        "for i in range(1,5):\n",
        "  for j in range(1,5):\n",
        "    print(i,j)"
      ],
      "metadata": {
        "colab": {
          "base_uri": "https://localhost:8080/"
        },
        "id": "GaYakLJ24wLc",
        "outputId": "c193524f-10e6-45f9-88ad-cb3fade38e32"
      },
      "execution_count": null,
      "outputs": [
        {
          "output_type": "stream",
          "name": "stdout",
          "text": [
            "1 1\n",
            "1 2\n",
            "1 3\n",
            "1 4\n",
            "2 1\n",
            "2 2\n",
            "2 3\n",
            "2 4\n",
            "3 1\n",
            "3 2\n",
            "3 3\n",
            "3 4\n",
            "4 1\n",
            "4 2\n",
            "4 3\n",
            "4 4\n"
          ]
        }
      ]
    },
    {
      "cell_type": "code",
      "source": [
        "# *\n",
        "# **\n",
        "# ***\n",
        "# ****\n",
        "\n",
        "rows = int(input('enter rows'))\n",
        "\n",
        "for i in range(1, rows+1):\n",
        "  for j  in range(1, i+1):\n",
        "    print('*', end='')\n",
        "  print()"
      ],
      "metadata": {
        "colab": {
          "base_uri": "https://localhost:8080/"
        },
        "id": "zt8gaKRG5YB5",
        "outputId": "1df4d22e-7cb5-403c-d817-b1557c0a0c9c"
      },
      "execution_count": null,
      "outputs": [
        {
          "output_type": "stream",
          "name": "stdout",
          "text": [
            "enter rows5\n",
            "*\n",
            "**\n",
            "***\n",
            "****\n",
            "*****\n"
          ]
        }
      ]
    },
    {
      "cell_type": "markdown",
      "source": [
        "TIME COMPLEXITY\n"
      ],
      "metadata": {
        "id": "xARqmXDz-xTV"
      }
    },
    {
      "cell_type": "code",
      "source": [
        "#MEASURE TIME TO EXECUTE\n",
        "\n",
        "import time\n",
        "\n",
        "start = time.time()\n",
        "for i in range(1,40):\n",
        "  print (i)\n",
        "end = time.time()\n",
        "print(end-start)\n",
        "\n",
        "\n"
      ],
      "metadata": {
        "colab": {
          "base_uri": "https://localhost:8080/"
        },
        "id": "1vx6Xi3E-0eI",
        "outputId": "d82b7d53-c5bf-4a33-8992-448c943709a1"
      },
      "execution_count": null,
      "outputs": [
        {
          "output_type": "stream",
          "name": "stdout",
          "text": [
            "1\n",
            "2\n",
            "3\n",
            "4\n",
            "5\n",
            "6\n",
            "7\n",
            "8\n",
            "9\n",
            "10\n",
            "11\n",
            "12\n",
            "13\n",
            "14\n",
            "15\n",
            "16\n",
            "17\n",
            "18\n",
            "19\n",
            "20\n",
            "21\n",
            "22\n",
            "23\n",
            "24\n",
            "25\n",
            "26\n",
            "27\n",
            "28\n",
            "29\n",
            "30\n",
            "31\n",
            "32\n",
            "33\n",
            "34\n",
            "35\n",
            "36\n",
            "37\n",
            "38\n",
            "39\n",
            "0.004484415054321289\n"
          ]
        }
      ]
    },
    {
      "cell_type": "code",
      "source": [
        "#2 counting operation\n",
        "#best case worst case average case\n",
        "\n",
        "# ordrs of growth\n"
      ],
      "metadata": {
        "id": "s7zTbFis_iED"
      },
      "execution_count": null,
      "outputs": []
    },
    {
      "cell_type": "markdown",
      "source": [
        "LIST\n"
      ],
      "metadata": {
        "id": "YXPoqImPDfps"
      }
    },
    {
      "cell_type": "code",
      "source": [
        "#empty\n",
        "print([])\n",
        "\n",
        "#1D -> Homo\n",
        "print([1,2,3,4,5])\n",
        "\n",
        "#2D\n",
        "print([2,3,4,5,[7,9,1]])\n",
        "\n",
        "#3d\n",
        "print([2,4,5], [7,8,9], [1,2,3])\n",
        "\n",
        "#Hetrogenous\n",
        "print([1,True,5.7,3+4j, 'Hello'])\n",
        "\n",
        "#using type conversion\n",
        "print(list('Mohsin'))"
      ],
      "metadata": {
        "colab": {
          "base_uri": "https://localhost:8080/"
        },
        "id": "cWkhBZheDhvR",
        "outputId": "50211c25-2767-47bd-95a7-716a9d9d8dfd"
      },
      "execution_count": null,
      "outputs": [
        {
          "output_type": "stream",
          "name": "stdout",
          "text": [
            "[]\n",
            "[1, 2, 3, 4, 5]\n",
            "[2, 3, 4, 5, [7, 9, 1]]\n",
            "[2, 4, 5] [7, 8, 9] [1, 2, 3]\n",
            "[1, True, 5.7, (3+4j), 'Hello']\n",
            "['M', 'o', 'h', 's', 'i', 'n']\n"
          ]
        }
      ]
    },
    {
      "cell_type": "markdown",
      "source": [
        "ACCESSING ITEM FROM A LIST\n"
      ],
      "metadata": {
        "id": "qCBhr4VwTsNn"
      }
    },
    {
      "cell_type": "code",
      "source": [
        "#INDEXING\n",
        "L = [1,2,45,6]\n",
        "#2d list\n",
        "L1= ([2,4,5], [7,89,1])\n",
        "print(L1[-1])\n",
        "#positive\n",
        "print(L[1])\n",
        "#nwgativve\n",
        "print(L1[-1][-2])\n",
        "\n",
        "#3D list\n",
        "L3= [[[3,5,6],[3,5]],[ [1,23,2],[55,66]]]\n",
        "print(L3[1][0][0])\n",
        "\n",
        "#SLICING\n",
        "L=[2,4,5,6,7]\n",
        "print(L[0:3])\n",
        "#0 se 3 tk print\n",
        "#list reverse\n",
        "print(L[::-1])"
      ],
      "metadata": {
        "colab": {
          "base_uri": "https://localhost:8080/"
        },
        "id": "BkX_kj3KTueN",
        "outputId": "921aaaf8-8e49-4cc5-cc13-831da918ad4b"
      },
      "execution_count": null,
      "outputs": [
        {
          "output_type": "stream",
          "name": "stdout",
          "text": [
            "[7, 89, 1]\n",
            "2\n",
            "89\n",
            "1\n",
            "[2, 4, 5]\n",
            "[7, 6, 5, 4, 2]\n"
          ]
        }
      ]
    },
    {
      "cell_type": "code",
      "source": [],
      "metadata": {
        "id": "ZLM7nHEDWiYm"
      },
      "execution_count": null,
      "outputs": []
    },
    {
      "cell_type": "markdown",
      "source": [
        "Adding items in a list\n"
      ],
      "metadata": {
        "id": "hyufrCyvWg_u"
      }
    },
    {
      "cell_type": "code",
      "source": [
        "#append\n",
        "L=[1,2,3,4]\n",
        "L.append(6)\n",
        "print(L)"
      ],
      "metadata": {
        "colab": {
          "base_uri": "https://localhost:8080/"
        },
        "id": "Cs9nUmUaWjaQ",
        "outputId": "62968278-2580-48c6-a3a0-3887dbe53da9"
      },
      "execution_count": null,
      "outputs": [
        {
          "output_type": "stream",
          "name": "stdout",
          "text": [
            "[1, 2, 3, 4, 6]\n"
          ]
        }
      ]
    },
    {
      "cell_type": "code",
      "source": [
        "#entend\n",
        "L=[2,3,4,5]\n",
        "L.extend([11,33])\n",
        "print(L)"
      ],
      "metadata": {
        "colab": {
          "base_uri": "https://localhost:8080/"
        },
        "id": "Fj4pVqwlW1uH",
        "outputId": "d58c6542-8090-4eb8-d50c-d6fe72baa8df"
      },
      "execution_count": null,
      "outputs": [
        {
          "output_type": "stream",
          "name": "stdout",
          "text": [
            "[2, 3, 4, 5, 11, 33]\n"
          ]
        }
      ]
    },
    {
      "cell_type": "code",
      "source": [
        "#insert 1 or 2 k beech m 100 add\n",
        "#index position or kya add krna h\n",
        "\n",
        "L=[2,3,4,5,7]\n",
        "L.insert(1,2000)\n",
        "print(L)"
      ],
      "metadata": {
        "colab": {
          "base_uri": "https://localhost:8080/"
        },
        "id": "gdUd-A2WXGm6",
        "outputId": "db6dce8b-2c15-4ff5-9ec0-22f127c4a5c0"
      },
      "execution_count": null,
      "outputs": [
        {
          "output_type": "stream",
          "name": "stdout",
          "text": [
            "[2, 2000, 3, 4, 5, 7]\n"
          ]
        }
      ]
    },
    {
      "cell_type": "markdown",
      "source": [
        "editing item in a list\n"
      ],
      "metadata": {
        "id": "kyooaYjFXaww"
      }
    },
    {
      "cell_type": "code",
      "source": [
        "L= [2,3,4,5]\n",
        "#L[-1]= 2000\n",
        "#l ka 1 se 3 index tk ye krdo replace\n",
        "L[1:3] = [4000,200,100]\n",
        "print(L)\n",
        "\n"
      ],
      "metadata": {
        "colab": {
          "base_uri": "https://localhost:8080/"
        },
        "id": "W6TqzjtrXdZf",
        "outputId": "75578ab6-07b5-48ea-ec32-8b0ed1c9e6be"
      },
      "execution_count": null,
      "outputs": [
        {
          "output_type": "stream",
          "name": "stdout",
          "text": [
            "[2, 4000, 200, 100, 5]\n"
          ]
        }
      ]
    },
    {
      "cell_type": "markdown",
      "source": [
        "create function with (docString)"
      ],
      "metadata": {
        "id": "zZHuTU0PtC8C"
      }
    },
    {
      "cell_type": "code",
      "source": [
        "def is_even(num):\n",
        "  if num % 2 ==0:\n",
        "    return 'even'\n",
        "  else:\n",
        "    return 'odd'\n",
        "\n",
        "#create function"
      ],
      "metadata": {
        "id": "xD1YAK06tIFr"
      },
      "execution_count": null,
      "outputs": []
    },
    {
      "cell_type": "code",
      "source": [
        "#call a function use\n",
        "for i in range(1,11):\n",
        "  x = is_even(i)\n",
        "  print(x)"
      ],
      "metadata": {
        "colab": {
          "base_uri": "https://localhost:8080/"
        },
        "id": "8GLORSwruIsP",
        "outputId": "235f7bae-7b70-44eb-a8bc-f90d813f9ef8"
      },
      "execution_count": null,
      "outputs": [
        {
          "output_type": "stream",
          "name": "stdout",
          "text": [
            "odd\n",
            "even\n",
            "odd\n",
            "even\n",
            "odd\n",
            "even\n",
            "odd\n",
            "even\n",
            "odd\n",
            "even\n"
          ]
        }
      ]
    },
    {
      "cell_type": "markdown",
      "source": [
        "default arguments\n"
      ],
      "metadata": {
        "id": "HxfiUfhjv7hc"
      }
    },
    {
      "cell_type": "code",
      "source": [
        "def power(a=1,b=1):\n",
        "  return a**b"
      ],
      "metadata": {
        "id": "6FxASZiqv-aH"
      },
      "execution_count": null,
      "outputs": []
    },
    {
      "cell_type": "code",
      "source": [
        "power(2,3)"
      ],
      "metadata": {
        "colab": {
          "base_uri": "https://localhost:8080/"
        },
        "id": "wYl6VWafwFJR",
        "outputId": "50668236-1a4e-4034-c7ea-be7c9d80fb41"
      },
      "execution_count": null,
      "outputs": [
        {
          "output_type": "execute_result",
          "data": {
            "text/plain": [
              "8"
            ]
          },
          "metadata": {},
          "execution_count": 9
        }
      ]
    },
    {
      "cell_type": "code",
      "source": [
        "#args\n",
        "\n",
        "def multiply(a,b,c):\n",
        "  return a*b*c\n"
      ],
      "metadata": {
        "id": "a9a10hjJyKfC"
      },
      "execution_count": null,
      "outputs": []
    },
    {
      "cell_type": "code",
      "source": [
        "multiply(2,4,5)"
      ],
      "metadata": {
        "colab": {
          "base_uri": "https://localhost:8080/"
        },
        "id": "D015PKUyyXB1",
        "outputId": "1a17e40b-10b3-4866-b968-4e37e30a20ac"
      },
      "execution_count": null,
      "outputs": [
        {
          "output_type": "execute_result",
          "data": {
            "text/plain": [
              "40"
            ]
          },
          "metadata": {},
          "execution_count": 12
        }
      ]
    },
    {
      "cell_type": "code",
      "source": [],
      "metadata": {
        "id": "JfPBQy3SzW1L"
      },
      "execution_count": null,
      "outputs": []
    },
    {
      "cell_type": "code",
      "source": [
        "# *args# isse we can passs unlimited arguments ek variable bna lya assign 1\n",
        "#*ARGS TUPLE BNJATA HAI\n",
        "def multiply(*args):\n",
        "  product  = 1\n",
        "  for i in args:\n",
        "    product = product*i\n",
        "  print(args)\n",
        "  return product"
      ],
      "metadata": {
        "id": "L1I7JASGyr-_"
      },
      "execution_count": null,
      "outputs": []
    },
    {
      "cell_type": "markdown",
      "source": [],
      "metadata": {
        "id": "-nrWOnAvz4zM"
      }
    },
    {
      "cell_type": "code",
      "source": [
        "multiply(2,4,5,6,7,8)"
      ],
      "metadata": {
        "colab": {
          "base_uri": "https://localhost:8080/"
        },
        "id": "G6-AVjMwzQGa",
        "outputId": "45934bc3-6971-4ffc-d10c-72eccdcd7f0e"
      },
      "execution_count": null,
      "outputs": [
        {
          "output_type": "execute_result",
          "data": {
            "text/plain": [
              "13440"
            ]
          },
          "metadata": {},
          "execution_count": 14
        }
      ]
    },
    {
      "cell_type": "code",
      "source": [
        "#Documentation read\n",
        "print(is_even.__.doc__)"
      ],
      "metadata": {
        "colab": {
          "base_uri": "https://localhost:8080/",
          "height": 162
        },
        "id": "PIFpUA6Ky2tp",
        "outputId": "0a24f69c-c6db-4b07-9bf5-65da59f4fb4e"
      },
      "execution_count": null,
      "outputs": [
        {
          "output_type": "error",
          "ename": "AttributeError",
          "evalue": "'function' object has no attribute '__'",
          "traceback": [
            "\u001b[0;31m---------------------------------------------------------------------------\u001b[0m",
            "\u001b[0;31mAttributeError\u001b[0m                            Traceback (most recent call last)",
            "\u001b[0;32m<ipython-input-17-2047e1a0744d>\u001b[0m in \u001b[0;36m<cell line: 2>\u001b[0;34m()\u001b[0m\n\u001b[1;32m      1\u001b[0m \u001b[0;31m#Documentation read\u001b[0m\u001b[0;34m\u001b[0m\u001b[0;34m\u001b[0m\u001b[0m\n\u001b[0;32m----> 2\u001b[0;31m \u001b[0mprint\u001b[0m\u001b[0;34m(\u001b[0m\u001b[0mis_even\u001b[0m\u001b[0;34m.\u001b[0m\u001b[0m__\u001b[0m\u001b[0;34m.\u001b[0m\u001b[0mdoc__\u001b[0m\u001b[0;34m)\u001b[0m\u001b[0;34m\u001b[0m\u001b[0;34m\u001b[0m\u001b[0m\n\u001b[0m",
            "\u001b[0;31mAttributeError\u001b[0m: 'function' object has no attribute '__'"
          ]
        }
      ]
    },
    {
      "cell_type": "code",
      "source": [
        "print(print.__doc__)"
      ],
      "metadata": {
        "colab": {
          "base_uri": "https://localhost:8080/"
        },
        "id": "Th2HpAm00NXH",
        "outputId": "15156483-2ffc-4b85-8be0-144d0b57136f"
      },
      "execution_count": null,
      "outputs": [
        {
          "output_type": "stream",
          "name": "stdout",
          "text": [
            "print(value, ..., sep=' ', end='\\n', file=sys.stdout, flush=False)\n",
            "\n",
            "Prints the values to a stream, or to sys.stdout by default.\n",
            "Optional keyword arguments:\n",
            "file:  a file-like object (stream); defaults to the current sys.stdout.\n",
            "sep:   string inserted between values, default a space.\n",
            "end:   string appended after the last value, default a newline.\n",
            "flush: whether to forcibly flush the stream.\n"
          ]
        }
      ]
    },
    {
      "cell_type": "code",
      "source": [
        "print(type.__doc__)"
      ],
      "metadata": {
        "colab": {
          "base_uri": "https://localhost:8080/"
        },
        "id": "juy1hBI80TnA",
        "outputId": "cf2476e2-7420-4101-cd13-75833fffd906"
      },
      "execution_count": null,
      "outputs": [
        {
          "output_type": "stream",
          "name": "stdout",
          "text": [
            "type(object) -> the object's type\n",
            "type(name, bases, dict, **kwds) -> a new type\n"
          ]
        }
      ]
    },
    {
      "cell_type": "code",
      "source": [
        "#kargs\n",
        "#kargs allow us to pass any numner of keyword arguments.\n",
        "#keyword arguments  mean thst they contain a key-value pair,like python dictionary\n"
      ],
      "metadata": {
        "id": "iDjsqtd10gRF"
      },
      "execution_count": null,
      "outputs": []
    },
    {
      "cell_type": "code",
      "source": [
        "def display(**kwargs):\n",
        "  for(key,value) in kwargs.items():\n",
        "    print(key,'>', value)"
      ],
      "metadata": {
        "id": "KTTWqFAp0xRG"
      },
      "execution_count": null,
      "outputs": []
    },
    {
      "cell_type": "code",
      "source": [
        "display(india='delhi', abba='biri')"
      ],
      "metadata": {
        "colab": {
          "base_uri": "https://localhost:8080/"
        },
        "id": "KQf3sboW1Lqv",
        "outputId": "c7cdafd8-5fcc-478c-8a97-157c77af7b0a"
      },
      "execution_count": null,
      "outputs": [
        {
          "output_type": "stream",
          "name": "stdout",
          "text": [
            "india > delhi\n",
            "abba > biri\n"
          ]
        }
      ]
    },
    {
      "cell_type": "code",
      "source": [
        "#LAMDA FUNCTION\n",
        "a =lambda x:'even' if x%2==0 else 'odd'\n",
        "a(8)"
      ],
      "metadata": {
        "colab": {
          "base_uri": "https://localhost:8080/",
          "height": 36
        },
        "id": "eted54ER1hoe",
        "outputId": "8b92cdf4-d342-4b27-8c73-8e96f6048061"
      },
      "execution_count": null,
      "outputs": [
        {
          "output_type": "execute_result",
          "data": {
            "text/plain": [
              "'even'"
            ],
            "application/vnd.google.colaboratory.intrinsic+json": {
              "type": "string"
            }
          },
          "metadata": {},
          "execution_count": 24
        }
      ]
    }
  ]
}